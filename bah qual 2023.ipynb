{
 "cells": [
  {
   "cell_type": "code",
   "execution_count": 1,
   "id": "88989719",
   "metadata": {},
   "outputs": [],
   "source": [
    "import matplotlib.pyplot as plt\n",
    "import pandas as pd\n",
    "from timple.timedelta import strftimedelta\n",
    "\n",
    "import fastf1\n",
    "import fastf1.plotting\n",
    "from fastf1.core import Laps"
   ]
  },
  {
   "cell_type": "code",
   "execution_count": 2,
   "id": "f714b431",
   "metadata": {},
   "outputs": [
    {
     "name": "stderr",
     "output_type": "stream",
     "text": [
      "core           INFO \tLoading data for Bahrain Grand Prix - Qualifying [v2.3.0]\n",
      "api            INFO \tNo cached data found for driver_info. Loading data...\n",
      "api            INFO \tFetching driver list...\n",
      "api            INFO \tData has been written to cache!\n",
      "api            INFO \tNo cached data found for timing_data. Loading data...\n",
      "api            INFO \tFetching timing data...\n",
      "api            INFO \tParsing timing data...\n",
      "api            INFO \tData has been written to cache!\n",
      "api            INFO \tNo cached data found for timing_app_data. Loading data...\n",
      "api            INFO \tFetching timing app data...\n",
      "api            INFO \tData has been written to cache!\n",
      "core           INFO \tProcessing timing data...\n",
      "api            INFO \tNo cached data found for session_status_data. Loading data...\n",
      "api            INFO \tFetching session status data...\n",
      "api            INFO \tData has been written to cache!\n",
      "api            INFO \tNo cached data found for track_status_data. Loading data...\n",
      "api            INFO \tFetching track status data...\n",
      "api            INFO \tData has been written to cache!\n",
      "api            INFO \tNo cached data found for car_data. Loading data...\n",
      "api            INFO \tFetching car data...\n",
      "api            INFO \tParsing car data...\n",
      "api            INFO \tData has been written to cache!\n",
      "api            INFO \tNo cached data found for position_data. Loading data...\n",
      "api            INFO \tFetching position data...\n",
      "api            INFO \tParsing position data...\n",
      "api            INFO \tData has been written to cache!\n",
      "api            INFO \tNo cached data found for weather_data. Loading data...\n",
      "api            INFO \tFetching weather data...\n",
      "api            INFO \tData has been written to cache!\n",
      "api            INFO \tNo cached data found for race_control_messages. Loading data...\n",
      "api            INFO \tFetching race control messages...\n",
      "api            INFO \tData has been written to cache!\n",
      "core           INFO \tFinished loading data for 20 drivers: ['1', '11', '16', '55', '14', '63', '44', '18', '31', '27', '4', '77', '24', '22', '23', '2', '20', '81', '21', '10']\n"
     ]
    }
   ],
   "source": [
    "fastf1.Cache.enable_cache(r'D:\\789\\f1\\season 2023\\bach')  # replace with your cache directory\n",
    "\n",
    "# we only want support for timedelta plotting in this example\n",
    "fastf1.plotting.setup_mpl(mpl_timedelta_support=True, color_scheme=None, misc_mpl_mods=False)\n",
    "\n",
    "session = fastf1.get_session(2023, 'Bahrain Grand Prix', 'Q')\n",
    "session.load()"
   ]
  },
  {
   "cell_type": "code",
   "execution_count": 3,
   "id": "9c57256c",
   "metadata": {},
   "outputs": [
    {
     "name": "stdout",
     "output_type": "stream",
     "text": [
      "['VER' 'PER' 'LEC' 'SAI' 'ALO' 'RUS' 'HAM' 'STR' 'OCO' 'HUL' 'NOR' 'BOT'\n",
      " 'ZHO' 'TSU' 'ALB' 'SAR' 'MAG' 'PIA' 'DEV' 'GAS']\n"
     ]
    }
   ],
   "source": [
    "drivers = pd.unique(session.laps['Driver'])\n",
    "print(drivers)"
   ]
  },
  {
   "cell_type": "code",
   "execution_count": 4,
   "id": "bdf11b04",
   "metadata": {},
   "outputs": [],
   "source": [
    "list_fastest_laps = list()\n",
    "for drv in drivers:\n",
    "    drvs_fastest_lap = session.laps.pick_driver(drv).pick_fastest()\n",
    "    list_fastest_laps.append(drvs_fastest_lap)\n",
    "fastest_laps = Laps(list_fastest_laps).sort_values(by='LapTime').reset_index(drop=True)"
   ]
  },
  {
   "cell_type": "code",
   "execution_count": 5,
   "id": "592386b3",
   "metadata": {},
   "outputs": [],
   "source": [
    "pole_lap = fastest_laps.pick_fastest()\n",
    "fastest_laps['LapTimeDelta'] = fastest_laps['LapTime'] - pole_lap['LapTime']"
   ]
  },
  {
   "cell_type": "code",
   "execution_count": 6,
   "id": "a9ed2c71",
   "metadata": {},
   "outputs": [
    {
     "name": "stdout",
     "output_type": "stream",
     "text": [
      "   Driver                LapTime           LapTimeDelta\n",
      "0     VER 0 days 00:01:29.708000        0 days 00:00:00\n",
      "1     PER 0 days 00:01:29.846000 0 days 00:00:00.138000\n",
      "2     LEC        0 days 00:01:30 0 days 00:00:00.292000\n",
      "3     SAI 0 days 00:01:30.154000 0 days 00:00:00.446000\n",
      "4     ALO 0 days 00:01:30.336000 0 days 00:00:00.628000\n",
      "5     RUS 0 days 00:01:30.340000 0 days 00:00:00.632000\n",
      "6     HAM 0 days 00:01:30.384000 0 days 00:00:00.676000\n",
      "7     STR 0 days 00:01:30.836000 0 days 00:00:01.128000\n",
      "8     OCO 0 days 00:01:30.984000 0 days 00:00:01.276000\n",
      "9     HUL 0 days 00:01:31.055000 0 days 00:00:01.347000\n",
      "10    NOR 0 days 00:01:31.381000 0 days 00:00:01.673000\n",
      "11    BOT 0 days 00:01:31.443000 0 days 00:00:01.735000\n",
      "12    ALB 0 days 00:01:31.461000 0 days 00:00:01.753000\n",
      "13    ZHO 0 days 00:01:31.473000 0 days 00:00:01.765000\n",
      "14    SAR 0 days 00:01:31.652000 0 days 00:00:01.944000\n",
      "15    MAG 0 days 00:01:31.892000 0 days 00:00:02.184000\n",
      "16    PIA 0 days 00:01:32.101000 0 days 00:00:02.393000\n",
      "17    DEV 0 days 00:01:32.121000 0 days 00:00:02.413000\n",
      "18    GAS 0 days 00:01:32.181000 0 days 00:00:02.473000\n",
      "19    TSU 0 days 00:01:32.510000 0 days 00:00:02.802000\n"
     ]
    }
   ],
   "source": [
    "print(fastest_laps[['Driver', 'LapTime', 'LapTimeDelta']])"
   ]
  },
  {
   "cell_type": "code",
   "execution_count": 7,
   "id": "ead19a3e",
   "metadata": {},
   "outputs": [],
   "source": [
    "team_colors = list()\n",
    "for index, lap in fastest_laps.iterlaps():\n",
    "    color = fastf1.plotting.team_color(lap['Team'])\n",
    "    team_colors.append(color)"
   ]
  },
  {
   "cell_type": "code",
   "execution_count": 11,
   "id": "dc85bd96",
   "metadata": {},
   "outputs": [
    {
     "data": {
      "image/png": "[encoded data removed]",
      "text/plain": [
       "<Figure size 432x288 with 1 Axes>"
      ]
     },
     "metadata": {
      "needs_background": "light"
     },
     "output_type": "display_data"
    }
   ],
   "source": [
    "fig, ax = plt.subplots()\n",
    "ax.barh(fastest_laps.index, fastest_laps['LapTimeDelta'],\n",
    "        color=team_colors, edgecolor='grey')\n",
    "ax.set_yticks(fastest_laps.index)\n",
    "ax.set_yticklabels(fastest_laps['Driver'])\n",
    "\n",
    "# show fastest at the top\n",
    "ax.invert_yaxis()\n",
    "\n",
    "plt.suptitle(f\"{session.event['EventName']} {session.event.year} Qualifying\\n\"\n",
    "             f\"Fastest Lap: {lap_time_string} ({pole_lap['Driver']})\")\n",
    "\n",
    "\n",
    "# draw vertical lines behind the bars\n",
    "ax.set_axisbelow(True)\n",
    "ax.xaxis.grid(True, which='major', linestyle='--', color='black', zorder=-1000)"
   ]
  },
  {
   "cell_type": "code",
   "execution_count": 10,
   "id": "6a547c9c",
   "metadata": {},
   "outputs": [
    {
     "data": {
      "text/plain": [
       "<Figure size 432x288 with 0 Axes>"
      ]
     },
     "metadata": {},
     "output_type": "display_data"
    }
   ],
   "source": []
  },
  {
   "cell_type": "code",
   "execution_count": null,
   "id": "06152520",
   "metadata": {},
   "outputs": [],
   "source": []
  }
 ],
 "metadata": {
  "kernelspec": {
   "display_name": "Python 3 (ipykernel)",
   "language": "python",
   "name": "python3"
  },
  "language_info": {
   "codemirror_mode": {
    "name": "ipython",
    "version": 3
   },
   "file_extension": ".py",
   "mimetype": "text/x-python",
   "name": "python",
   "nbconvert_exporter": "python",
   "pygments_lexer": "ipython3",
   "version": "3.9.12"
  }
 },
 "nbformat": 4,
 "nbformat_minor": 5
}
